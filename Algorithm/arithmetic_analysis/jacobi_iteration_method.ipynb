{
 "cells": [
  {
   "cell_type": "code",
   "execution_count": 7,
   "id": "3f1493ac",
   "metadata": {},
   "outputs": [
    {
     "data": {
      "text/plain": [
       "'\\nJacobi Iteration Method - https://en.wikipedia.org/wiki/Jacobi_method\\n'"
      ]
     },
     "execution_count": 7,
     "metadata": {},
     "output_type": "execute_result"
    }
   ],
   "source": [
    "\"\"\"\n",
    "Jacobi Iteration Method - https://en.wikipedia.org/wiki/Jacobi_method\n",
    "\"\"\""
   ]
  },
  {
   "cell_type": "code",
   "execution_count": 8,
   "id": "b5cce883",
   "metadata": {},
   "outputs": [],
   "source": [
    "from __future__ import annotations\n",
    "\n",
    "import numpy as np\n",
    "from numpy import float64\n",
    "from numpy.typing import NDArray"
   ]
  },
  {
   "cell_type": "code",
   "execution_count": 9,
   "id": "d9674824",
   "metadata": {},
   "outputs": [],
   "source": [
    "# Method to find solution of system of linear equations\n",
    "def jacobi_iteration_method(\n",
    "    coefficient_matrix: NDArray[float64],\n",
    "    constant_matrix: NDArray[float64],\n",
    "    init_val: list[int],\n",
    "    iterations: int,\n",
    ") -> list[float]:\n",
    "    \"\"\"\n",
    "    Jacobi Iteration Method:\n",
    "    An iterative algorithm to determine the solutions of strictly diagonally dominant\n",
    "    system of linear equations\n",
    "    4x1 +  x2 +  x3 =  2\n",
    "     x1 + 5x2 + 2x3 = -6\n",
    "     x1 + 2x2 + 4x3 = -4\n",
    "    x_init = [0.5, -0.5 , -0.5]\n",
    "    Examples:\n",
    "    >>> coefficient = np.array([[4, 1, 1], [1, 5, 2], [1, 2, 4]])\n",
    "    >>> constant = np.array([[2], [-6], [-4]])\n",
    "    >>> init_val = [0.5, -0.5, -0.5]\n",
    "    >>> iterations = 3\n",
    "    >>> jacobi_iteration_method(coefficient, constant, init_val, iterations)\n",
    "    [0.909375, -1.14375, -0.7484375]\n",
    "    >>> coefficient = np.array([[4, 1, 1], [1, 5, 2]])\n",
    "    >>> constant = np.array([[2], [-6], [-4]])\n",
    "    >>> init_val = [0.5, -0.5, -0.5]\n",
    "    >>> iterations = 3\n",
    "    >>> jacobi_iteration_method(coefficient, constant, init_val, iterations)\n",
    "    Traceback (most recent call last):\n",
    "    ...\n",
    "    ValueError: Coefficient matrix dimensions must be nxn but received 2x3\n",
    "    >>> coefficient = np.array([[4, 1, 1], [1, 5, 2], [1, 2, 4]])\n",
    "    >>> constant = np.array([[2], [-6]])\n",
    "    >>> init_val = [0.5, -0.5, -0.5]\n",
    "    >>> iterations = 3\n",
    "    >>> jacobi_iteration_method(coefficient, constant, init_val, iterations)\n",
    "    Traceback (most recent call last):\n",
    "    ...\n",
    "    ValueError: Coefficient and constant matrices dimensions must be nxn and nx1 but\n",
    "                received 3x3 and 2x1\n",
    "    >>> coefficient = np.array([[4, 1, 1], [1, 5, 2], [1, 2, 4]])\n",
    "    >>> constant = np.array([[2], [-6], [-4]])\n",
    "    >>> init_val = [0.5, -0.5]\n",
    "    >>> iterations = 3\n",
    "    >>> jacobi_iteration_method(coefficient, constant, init_val, iterations)\n",
    "    Traceback (most recent call last):\n",
    "    ...\n",
    "    ValueError: Number of initial values must be equal to number of rows in coefficient\n",
    "                matrix but received 2 and 3\n",
    "    >>> coefficient = np.array([[4, 1, 1], [1, 5, 2], [1, 2, 4]])\n",
    "    >>> constant = np.array([[2], [-6], [-4]])\n",
    "    >>> init_val = [0.5, -0.5, -0.5]\n",
    "    >>> iterations = 0\n",
    "    >>> jacobi_iteration_method(coefficient, constant, init_val, iterations)\n",
    "    Traceback (most recent call last):\n",
    "    ...\n",
    "    ValueError: Iterations must be at least 1\n",
    "    \"\"\"\n",
    "\n",
    "    rows1, cols1 = coefficient_matrix.shape\n",
    "    rows2, cols2 = constant_matrix.shape\n",
    "\n",
    "    if rows1 != cols1:\n",
    "        raise ValueError(\n",
    "            f\"Coefficient matrix dimensions must be nxn but received {rows1}x{cols1}\"\n",
    "        )\n",
    "\n",
    "    if cols2 != 1:\n",
    "        raise ValueError(f\"Constant matrix must be nx1 but received {rows2}x{cols2}\")\n",
    "\n",
    "    if rows1 != rows2:\n",
    "        raise ValueError(\n",
    "            f\"\"\"Coefficient and constant matrices dimensions must be nxn and nx1 but\n",
    "            received {rows1}x{cols1} and {rows2}x{cols2}\"\"\"\n",
    "        )\n",
    "\n",
    "    if len(init_val) != rows1:\n",
    "        raise ValueError(\n",
    "            f\"\"\"Number of initial values must be equal to number of rows in coefficient\n",
    "            matrix but received {len(init_val)} and {rows1}\"\"\"\n",
    "        )\n",
    "\n",
    "    if iterations <= 0:\n",
    "        raise ValueError(\"Iterations must be at least 1\")\n",
    "\n",
    "    table: NDArray[float64] = np.concatenate(\n",
    "        (coefficient_matrix, constant_matrix), axis=1\n",
    "    )\n",
    "\n",
    "    rows, cols = table.shape\n",
    "\n",
    "    strictly_diagonally_dominant(table)\n",
    "\n",
    "    # Iterates the whole matrix for given number of times\n",
    "    for i in range(iterations):\n",
    "        new_val = []\n",
    "        for row in range(rows):\n",
    "            temp = 0\n",
    "            for col in range(cols):\n",
    "                if col == row:\n",
    "                    denom = table[row][col]\n",
    "                elif col == cols - 1:\n",
    "                    val = table[row][col]\n",
    "                else:\n",
    "                    temp += (-1) * table[row][col] * init_val[col]\n",
    "            temp = (temp + val) / denom\n",
    "            new_val.append(temp)\n",
    "        init_val = new_val\n",
    "\n",
    "    return [float(i) for i in new_val]"
   ]
  },
  {
   "cell_type": "code",
   "execution_count": 10,
   "id": "443cbc76",
   "metadata": {},
   "outputs": [],
   "source": [
    "# Checks if the given matrix is strictly diagonally dominant\n",
    "def strictly_diagonally_dominant(table: NDArray[float64]) -> bool:\n",
    "    \"\"\"\n",
    "    >>> table = np.array([[4, 1, 1, 2], [1, 5, 2, -6], [1, 2, 4, -4]])\n",
    "    >>> strictly_diagonally_dominant(table)\n",
    "    True\n",
    "    >>> table = np.array([[4, 1, 1, 2], [1, 5, 2, -6], [1, 2, 3, -4]])\n",
    "    >>> strictly_diagonally_dominant(table)\n",
    "    Traceback (most recent call last):\n",
    "    ...\n",
    "    ValueError: Coefficient matrix is not strictly diagonally dominant\n",
    "    \"\"\"\n",
    "\n",
    "    rows, cols = table.shape\n",
    "\n",
    "    is_diagonally_dominant = True\n",
    "\n",
    "    for i in range(0, rows):\n",
    "        sum = 0\n",
    "        for j in range(0, cols - 1):\n",
    "            if i == j:\n",
    "                continue\n",
    "            else:\n",
    "                sum += table[i][j]\n",
    "\n",
    "        if table[i][i] <= sum:\n",
    "            raise ValueError(\"Coefficient matrix is not strictly diagonally dominant\")\n",
    "\n",
    "    return is_diagonally_dominant"
   ]
  },
  {
   "cell_type": "code",
   "execution_count": 11,
   "id": "a2a8a03d",
   "metadata": {},
   "outputs": [],
   "source": [
    "import doctest"
   ]
  },
  {
   "cell_type": "code",
   "execution_count": 12,
   "id": "ee3e40e7",
   "metadata": {},
   "outputs": [
    {
     "data": {
      "text/plain": [
       "TestResults(failed=0, attempted=29)"
      ]
     },
     "execution_count": 12,
     "metadata": {},
     "output_type": "execute_result"
    }
   ],
   "source": [
    "doctest.testmod()"
   ]
  }
 ],
 "metadata": {
  "kernelspec": {
   "display_name": "Algorithm Venv",
   "language": "python",
   "name": "alg_venv"
  },
  "language_info": {
   "codemirror_mode": {
    "name": "ipython",
    "version": 3
   },
   "file_extension": ".py",
   "mimetype": "text/x-python",
   "name": "python",
   "nbconvert_exporter": "python",
   "pygments_lexer": "ipython3",
   "version": "3.9.2"
  }
 },
 "nbformat": 4,
 "nbformat_minor": 5
}
