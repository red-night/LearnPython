{
 "cells": [
  {
   "cell_type": "code",
   "execution_count": 1,
   "id": "da6c8de3",
   "metadata": {},
   "outputs": [
    {
     "data": {
      "text/plain": [
       "'\\nChecks if a system of forces is in static equilibrium.\\n'"
      ]
     },
     "execution_count": 1,
     "metadata": {},
     "output_type": "execute_result"
    }
   ],
   "source": [
    "\"\"\"\n",
    "Checks if a system of forces is in static equilibrium.\n",
    "\"\"\""
   ]
  },
  {
   "cell_type": "code",
   "execution_count": 2,
   "id": "c6679c73",
   "metadata": {},
   "outputs": [],
   "source": [
    "from __future__ import annotations\n",
    "\n",
    "from numpy import array, cos, cross, float64, radians, sin\n",
    "from numpy.typing import NDArray"
   ]
  },
  {
   "cell_type": "code",
   "execution_count": 3,
   "id": "9d1862d1",
   "metadata": {},
   "outputs": [],
   "source": [
    "def polar_force(\n",
    "    magnitude: float, angle: float, radian_mode: bool = False\n",
    ") -> list[float]:\n",
    "    \"\"\"\n",
    "    Resolves force along rectangular components.\n",
    "    (force, angle) => (force_x, force_y)\n",
    "    >>> import math\n",
    "    >>> force = polar_force(10, 45)\n",
    "    >>> math.isclose(force[0], 7.071067811865477)\n",
    "    True\n",
    "    >>> math.isclose(force[1], 7.0710678118654755)\n",
    "    True\n",
    "    >>> polar_force(10, 3.14, radian_mode=True)\n",
    "    [-9.999987317275396, 0.01592652916486828]\n",
    "    \"\"\"\n",
    "    if radian_mode:\n",
    "        return [magnitude * cos(angle), magnitude * sin(angle)]\n",
    "    return [magnitude * cos(radians(angle)), magnitude * sin(radians(angle))]"
   ]
  },
  {
   "cell_type": "code",
   "execution_count": 4,
   "id": "cd64e99c",
   "metadata": {},
   "outputs": [],
   "source": [
    "def in_static_equilibrium(\n",
    "    forces: NDArray[float64], location: NDArray[float64], eps: float = 10**-1\n",
    ") -> bool:\n",
    "    \"\"\"\n",
    "    Check if a system is in equilibrium.\n",
    "    It takes two numpy.array objects.\n",
    "    forces ==>  [\n",
    "                        [force1_x, force1_y],\n",
    "                        [force2_x, force2_y],\n",
    "                        ....]\n",
    "    location ==>  [\n",
    "                        [x1, y1],\n",
    "                        [x2, y2],\n",
    "                        ....]\n",
    "    >>> force = array([[1, 1], [-1, 2]])\n",
    "    >>> location = array([[1, 0], [10, 0]])\n",
    "    >>> in_static_equilibrium(force, location)\n",
    "    False\n",
    "    \"\"\"\n",
    "    # summation of moments is zero\n",
    "    moments: NDArray[float64] = cross(location, forces)\n",
    "    sum_moments: float = sum(moments)\n",
    "    return abs(sum_moments) < eps"
   ]
  },
  {
   "cell_type": "code",
   "execution_count": 5,
   "id": "8a24d9e9",
   "metadata": {},
   "outputs": [],
   "source": [
    "# Test to check if it works\n",
    "forces = array(\n",
    "    [\n",
    "        polar_force(718.4, 180 - 30),\n",
    "        polar_force(879.54, 45),\n",
    "        polar_force(100, -90),\n",
    "    ]\n",
    ")\n",
    "\n",
    "location: NDArray[float64] = array([[0, 0], [0, 0], [0, 0]])\n",
    "\n",
    "assert in_static_equilibrium(forces, location)"
   ]
  },
  {
   "cell_type": "code",
   "execution_count": 6,
   "id": "8eedeed8",
   "metadata": {},
   "outputs": [],
   "source": [
    "# Problem 1 in image_data/2D_problems.jpg\n",
    "forces = array(\n",
    "    [\n",
    "        polar_force(30 * 9.81, 15),\n",
    "        polar_force(215, 180 - 45),\n",
    "        polar_force(264, 90 - 30),\n",
    "    ]\n",
    ")\n",
    "\n",
    "location = array([[0, 0], [0, 0], [0, 0]])\n",
    "\n",
    "assert in_static_equilibrium(forces, location)"
   ]
  },
  {
   "cell_type": "code",
   "execution_count": 7,
   "id": "32ebc618",
   "metadata": {},
   "outputs": [],
   "source": [
    "# Problem in image_data/2D_problems_1.jpg\n",
    "forces = array([[0, -2000], [0, -1200], [0, 15600], [0, -12400]])\n",
    "\n",
    "location = array([[0, 0], [6, 0], [10, 0], [12, 0]])\n",
    "\n",
    "assert in_static_equilibrium(forces, location)"
   ]
  },
  {
   "cell_type": "code",
   "execution_count": 8,
   "id": "cb59c2ce",
   "metadata": {},
   "outputs": [],
   "source": [
    "import doctest"
   ]
  },
  {
   "cell_type": "code",
   "execution_count": 9,
   "id": "d7a04b6b",
   "metadata": {},
   "outputs": [
    {
     "name": "stdout",
     "output_type": "stream",
     "text": [
      "**********************************************************************\n",
      "File \"__main__\", line 11, in __main__.polar_force\n",
      "Failed example:\n",
      "    polar_force(10, 3.14, radian_mode=True)\n",
      "Expected:\n",
      "    [-9.999987317275396, 0.01592652916486828]\n",
      "Got:\n",
      "    [-9.999987317275394, 0.01592652916486828]\n",
      "**********************************************************************\n",
      "1 items had failures:\n",
      "   1 of   5 in __main__.polar_force\n",
      "***Test Failed*** 1 failures.\n"
     ]
    },
    {
     "data": {
      "text/plain": [
       "TestResults(failed=1, attempted=8)"
      ]
     },
     "execution_count": 9,
     "metadata": {},
     "output_type": "execute_result"
    }
   ],
   "source": [
    "doctest.testmod()"
   ]
  },
  {
   "cell_type": "code",
   "execution_count": null,
   "id": "f9be5022",
   "metadata": {},
   "outputs": [],
   "source": []
  }
 ],
 "metadata": {
  "kernelspec": {
   "display_name": "Algorithm Venv",
   "language": "python",
   "name": "alg_venv"
  },
  "language_info": {
   "codemirror_mode": {
    "name": "ipython",
    "version": 3
   },
   "file_extension": ".py",
   "mimetype": "text/x-python",
   "name": "python",
   "nbconvert_exporter": "python",
   "pygments_lexer": "ipython3",
   "version": "3.9.2"
  }
 },
 "nbformat": 4,
 "nbformat_minor": 5
}
