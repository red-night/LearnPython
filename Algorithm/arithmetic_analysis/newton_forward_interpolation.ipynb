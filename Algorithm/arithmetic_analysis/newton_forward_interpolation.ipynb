{
 "cells": [
  {
   "cell_type": "code",
   "execution_count": 1,
   "id": "926ec8b0",
   "metadata": {},
   "outputs": [],
   "source": [
    "# https://www.geeksforgeeks.org/newton-forward-backward-interpolation/"
   ]
  },
  {
   "cell_type": "code",
   "execution_count": 2,
   "id": "98808319",
   "metadata": {},
   "outputs": [],
   "source": [
    "from __future__ import annotations\n",
    "\n",
    "import math"
   ]
  },
  {
   "cell_type": "code",
   "execution_count": 3,
   "id": "b1bf2059",
   "metadata": {},
   "outputs": [],
   "source": [
    "# for calculating u value\n",
    "def ucal(u: float, p: int) -> float:\n",
    "    \"\"\"\n",
    "    >>> ucal(1, 2)\n",
    "    0\n",
    "    >>> ucal(1.1, 2)\n",
    "    0.11000000000000011\n",
    "    >>> ucal(1.2, 2)\n",
    "    0.23999999999999994\n",
    "    \"\"\"\n",
    "    temp = u\n",
    "    for i in range(1, p):\n",
    "        temp = temp * (u - i)\n",
    "    return temp"
   ]
  },
  {
   "cell_type": "code",
   "execution_count": 4,
   "id": "2b0c4c9c",
   "metadata": {},
   "outputs": [],
   "source": [
    "def main() -> None:\n",
    "    n = int(input(\"enter the numbers of values: \"))\n",
    "    y: list[list[float]] = []\n",
    "    for i in range(n):\n",
    "        y.append([])\n",
    "    for i in range(n):\n",
    "        for j in range(n):\n",
    "            y[i].append(j)\n",
    "            y[i][j] = 0\n",
    "\n",
    "    print(\"enter the values of parameters in a list: \")\n",
    "    x = list(map(int, input().split()))\n",
    "\n",
    "    print(\"enter the values of corresponding parameters: \")\n",
    "    for i in range(n):\n",
    "        y[i][0] = float(input())\n",
    "\n",
    "    value = int(input(\"enter the value to interpolate: \"))\n",
    "    u = (value - x[0]) / (x[1] - x[0])\n",
    "\n",
    "    # for calculating forward difference table\n",
    "\n",
    "    for i in range(1, n):\n",
    "        for j in range(n - i):\n",
    "            y[j][i] = y[j + 1][i - 1] - y[j][i - 1]\n",
    "\n",
    "    summ = y[0][0]\n",
    "    for i in range(1, n):\n",
    "        summ += (ucal(u, i) * y[0][i]) / math.factorial(i)\n",
    "\n",
    "    print(f\"the value at {value} is {summ}\")"
   ]
  },
  {
   "cell_type": "code",
   "execution_count": 5,
   "id": "e4c5eb07",
   "metadata": {},
   "outputs": [
    {
     "name": "stdout",
     "output_type": "stream",
     "text": [
      "enter the numbers of values: 123\n",
      "enter the values of parameters in a list: \n",
      "1231\n",
      "enter the values of corresponding parameters: \n",
      "123\n",
      "123\n",
      "123\n",
      "\n"
     ]
    },
    {
     "ename": "ValueError",
     "evalue": "could not convert string to float: ''",
     "output_type": "error",
     "traceback": [
      "\u001b[0;31m---------------------------------------------------------------------------\u001b[0m",
      "\u001b[0;31mValueError\u001b[0m                                Traceback (most recent call last)",
      "Input \u001b[0;32mIn [5]\u001b[0m, in \u001b[0;36m<cell line: 1>\u001b[0;34m()\u001b[0m\n\u001b[0;32m----> 1\u001b[0m \u001b[43mmain\u001b[49m\u001b[43m(\u001b[49m\u001b[43m)\u001b[49m\n",
      "Input \u001b[0;32mIn [4]\u001b[0m, in \u001b[0;36mmain\u001b[0;34m()\u001b[0m\n\u001b[1;32m     14\u001b[0m \u001b[38;5;28mprint\u001b[39m(\u001b[38;5;124m\"\u001b[39m\u001b[38;5;124menter the values of corresponding parameters: \u001b[39m\u001b[38;5;124m\"\u001b[39m)\n\u001b[1;32m     15\u001b[0m \u001b[38;5;28;01mfor\u001b[39;00m i \u001b[38;5;129;01min\u001b[39;00m \u001b[38;5;28mrange\u001b[39m(n):\n\u001b[0;32m---> 16\u001b[0m     y[i][\u001b[38;5;241m0\u001b[39m] \u001b[38;5;241m=\u001b[39m \u001b[38;5;28;43mfloat\u001b[39;49m\u001b[43m(\u001b[49m\u001b[38;5;28;43minput\u001b[39;49m\u001b[43m(\u001b[49m\u001b[43m)\u001b[49m\u001b[43m)\u001b[49m\n\u001b[1;32m     18\u001b[0m value \u001b[38;5;241m=\u001b[39m \u001b[38;5;28mint\u001b[39m(\u001b[38;5;28minput\u001b[39m(\u001b[38;5;124m\"\u001b[39m\u001b[38;5;124menter the value to interpolate: \u001b[39m\u001b[38;5;124m\"\u001b[39m))\n\u001b[1;32m     19\u001b[0m u \u001b[38;5;241m=\u001b[39m (value \u001b[38;5;241m-\u001b[39m x[\u001b[38;5;241m0\u001b[39m]) \u001b[38;5;241m/\u001b[39m (x[\u001b[38;5;241m1\u001b[39m] \u001b[38;5;241m-\u001b[39m x[\u001b[38;5;241m0\u001b[39m])\n",
      "\u001b[0;31mValueError\u001b[0m: could not convert string to float: ''"
     ]
    }
   ],
   "source": [
    "main()"
   ]
  }
 ],
 "metadata": {
  "kernelspec": {
   "display_name": "Python 3 (ipykernel)",
   "language": "python",
   "name": "python3"
  },
  "language_info": {
   "codemirror_mode": {
    "name": "ipython",
    "version": 3
   },
   "file_extension": ".py",
   "mimetype": "text/x-python",
   "name": "python",
   "nbconvert_exporter": "python",
   "pygments_lexer": "ipython3",
   "version": "3.9.2"
  }
 },
 "nbformat": 4,
 "nbformat_minor": 5
}
