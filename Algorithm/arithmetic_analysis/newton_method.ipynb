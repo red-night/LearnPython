{
 "cells": [
  {
   "cell_type": "code",
   "execution_count": 1,
   "id": "5b5cfe0c",
   "metadata": {},
   "outputs": [
    {
     "data": {
      "text/plain": [
       "\"Newton's Method.\""
      ]
     },
     "execution_count": 1,
     "metadata": {},
     "output_type": "execute_result"
    }
   ],
   "source": [
    "\"\"\"Newton's Method.\"\"\""
   ]
  },
  {
   "cell_type": "code",
   "execution_count": 2,
   "id": "8f2aeae9",
   "metadata": {},
   "outputs": [],
   "source": [
    "# Newton's Method - https://en.wikipedia.org/wiki/Newton%27s_method\n",
    "from typing import Callable"
   ]
  },
  {
   "cell_type": "code",
   "execution_count": 3,
   "id": "52213511",
   "metadata": {},
   "outputs": [],
   "source": [
    "RealFunc = Callable[[float], float]  # type alias for a real -> real function"
   ]
  },
  {
   "cell_type": "code",
   "execution_count": 4,
   "id": "71f6345c",
   "metadata": {},
   "outputs": [],
   "source": [
    "# function is the f(x) and derivative is the f'(x)\n",
    "def newton(\n",
    "    function: RealFunc,\n",
    "    derivative: RealFunc,\n",
    "    starting_int: int,\n",
    ") -> float:\n",
    "    \"\"\"\n",
    "    >>> newton(lambda x: x ** 3 - 2 * x - 5, lambda x: 3 * x ** 2 - 2, 3)\n",
    "    2.0945514815423474\n",
    "    >>> newton(lambda x: x ** 3 - 1, lambda x: 3 * x ** 2, -2)\n",
    "    1.0\n",
    "    >>> newton(lambda x: x ** 3 - 1, lambda x: 3 * x ** 2, -4)\n",
    "    1.0000000000000102\n",
    "    >>> import math\n",
    "    >>> newton(math.sin, math.cos, 1)\n",
    "    0.0\n",
    "    >>> newton(math.sin, math.cos, 2)\n",
    "    3.141592653589793\n",
    "    >>> newton(math.cos, lambda x: -math.sin(x), 2)\n",
    "    1.5707963267948966\n",
    "    >>> newton(math.cos, lambda x: -math.sin(x), 0)\n",
    "    Traceback (most recent call last):\n",
    "    ...\n",
    "    ZeroDivisionError: Could not find root\n",
    "    \"\"\"\n",
    "    prev_guess = float(starting_int)\n",
    "    while True:\n",
    "        try:\n",
    "            next_guess = prev_guess - function(prev_guess) / derivative(prev_guess)\n",
    "        except ZeroDivisionError:\n",
    "            raise ZeroDivisionError(\"Could not find root\") from None\n",
    "        if abs(prev_guess - next_guess) < 10**-5:\n",
    "            return next_guess\n",
    "        prev_guess = next_guess"
   ]
  },
  {
   "cell_type": "code",
   "execution_count": 5,
   "id": "eac830fc",
   "metadata": {},
   "outputs": [],
   "source": [
    "def f(x: float) -> float:\n",
    "    return (x**3) - (2 * x) - 5"
   ]
  },
  {
   "cell_type": "code",
   "execution_count": 6,
   "id": "e375b7f8",
   "metadata": {},
   "outputs": [],
   "source": [
    "def f1(x: float) -> float:\n",
    "    return 3 * (x**2) - 2"
   ]
  },
  {
   "cell_type": "code",
   "execution_count": 7,
   "id": "56b1ebe8",
   "metadata": {},
   "outputs": [
    {
     "name": "stdout",
     "output_type": "stream",
     "text": [
      "2.0945514815423474\n"
     ]
    }
   ],
   "source": [
    "print(newton(f, f1, 3))"
   ]
  }
 ],
 "metadata": {
  "kernelspec": {
   "display_name": "Python 3 (ipykernel)",
   "language": "python",
   "name": "python3"
  },
  "language_info": {
   "codemirror_mode": {
    "name": "ipython",
    "version": 3
   },
   "file_extension": ".py",
   "mimetype": "text/x-python",
   "name": "python",
   "nbconvert_exporter": "python",
   "pygments_lexer": "ipython3",
   "version": "3.9.2"
  }
 },
 "nbformat": 4,
 "nbformat_minor": 5
}
