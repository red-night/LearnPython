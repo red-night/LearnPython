{
 "cells": [
  {
   "cell_type": "code",
   "execution_count": 1,
   "id": "4fcf16a0",
   "metadata": {},
   "outputs": [],
   "source": [
    "import math\n",
    "from typing import Callable"
   ]
  },
  {
   "cell_type": "code",
   "execution_count": 2,
   "id": "a5526856",
   "metadata": {},
   "outputs": [],
   "source": [
    "def intersection(function: Callable[[float], float], x0: float, x1: float) -> float:\n",
    "    \"\"\"\n",
    "    function is the f we want to find its root\n",
    "    x0 and x1 are two random starting points\n",
    "    >>> intersection(lambda x: x ** 3 - 1, -5, 5)\n",
    "    0.9999999999954654\n",
    "    >>> intersection(lambda x: x ** 3 - 1, 5, 5)\n",
    "    Traceback (most recent call last):\n",
    "    ...\n",
    "    ZeroDivisionError: float division by zero, could not find root\n",
    "    >>> intersection(lambda x: x ** 3 - 1, 100, 200)\n",
    "    1.0000000000003888\n",
    "    >>> intersection(lambda x: x ** 2 - 4 * x + 3, 0, 2)\n",
    "    0.9999999998088019\n",
    "    >>> intersection(lambda x: x ** 2 - 4 * x + 3, 2, 4)\n",
    "    2.9999999998088023\n",
    "    >>> intersection(lambda x: x ** 2 - 4 * x + 3, 4, 1000)\n",
    "    3.0000000001786042\n",
    "    >>> intersection(math.sin, -math.pi, math.pi)\n",
    "    0.0\n",
    "    >>> intersection(math.cos, -math.pi, math.pi)\n",
    "    Traceback (most recent call last):\n",
    "    ...\n",
    "    ZeroDivisionError: float division by zero, could not find root\n",
    "    \"\"\"\n",
    "    x_n: float = x0\n",
    "    x_n1: float = x1\n",
    "    while True:\n",
    "        if x_n == x_n1 or function(x_n1) == function(x_n):\n",
    "            raise ZeroDivisionError(\"float division by zero, could not find root\")\n",
    "        x_n2: float = x_n1 - (\n",
    "            function(x_n1) / ((function(x_n1) - function(x_n)) / (x_n1 - x_n))\n",
    "        )\n",
    "        if abs(x_n2 - x_n1) < 10**-5:\n",
    "            return x_n2\n",
    "        x_n = x_n1\n",
    "        x_n1 = x_n2"
   ]
  },
  {
   "cell_type": "code",
   "execution_count": 3,
   "id": "a5d480d4",
   "metadata": {},
   "outputs": [],
   "source": [
    "def f(x: float) -> float:\n",
    "    return math.pow(x, 3) - (2 * x) - 5"
   ]
  },
  {
   "cell_type": "code",
   "execution_count": 4,
   "id": "3fb734ca",
   "metadata": {},
   "outputs": [
    {
     "name": "stdout",
     "output_type": "stream",
     "text": [
      "2.0945514815435184\n"
     ]
    }
   ],
   "source": [
    "print(intersection(f, 3, 3.5))"
   ]
  }
 ],
 "metadata": {
  "kernelspec": {
   "display_name": "Algorithm Venv",
   "language": "python",
   "name": "alg_venv"
  },
  "language_info": {
   "codemirror_mode": {
    "name": "ipython",
    "version": 3
   },
   "file_extension": ".py",
   "mimetype": "text/x-python",
   "name": "python",
   "nbconvert_exporter": "python",
   "pygments_lexer": "ipython3",
   "version": "3.9.2"
  }
 },
 "nbformat": 4,
 "nbformat_minor": 5
}
