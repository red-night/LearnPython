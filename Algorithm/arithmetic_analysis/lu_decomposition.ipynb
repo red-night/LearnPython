{
 "cells": [
  {
   "cell_type": "code",
   "execution_count": 6,
   "id": "4f11de48",
   "metadata": {},
   "outputs": [
    {
     "data": {
      "text/plain": [
       "'Lower-Upper (LU) Decomposition.\\nReference:\\n- https://en.wikipedia.org/wiki/LU_decomposition\\n'"
      ]
     },
     "execution_count": 6,
     "metadata": {},
     "output_type": "execute_result"
    }
   ],
   "source": [
    "\"\"\"Lower-Upper (LU) Decomposition.\n",
    "Reference:\n",
    "- https://en.wikipedia.org/wiki/LU_decomposition\n",
    "\"\"\""
   ]
  },
  {
   "cell_type": "code",
   "execution_count": 7,
   "id": "1ac1be3a",
   "metadata": {},
   "outputs": [],
   "source": [
    "from __future__ import annotations\n",
    "\n",
    "import numpy as np\n",
    "import numpy.typing as NDArray\n",
    "from numpy import float64"
   ]
  },
  {
   "cell_type": "code",
   "execution_count": 8,
   "id": "108b433f",
   "metadata": {},
   "outputs": [],
   "source": [
    "def lower_upper_decomposition(\n",
    "    table: NDArray[float64],\n",
    ") -> tuple[NDArray[float64], NDArray[float64]]:\n",
    "    \"\"\"Lower-Upper (LU) Decomposition\n",
    "    Example:\n",
    "    >>> matrix = np.array([[2, -2, 1], [0, 1, 2], [5, 3, 1]])\n",
    "    >>> outcome = lower_upper_decomposition(matrix)\n",
    "    >>> outcome[0]\n",
    "    array([[1. , 0. , 0. ],\n",
    "           [0. , 1. , 0. ],\n",
    "           [2.5, 8. , 1. ]])\n",
    "    >>> outcome[1]\n",
    "    array([[  2. ,  -2. ,   1. ],\n",
    "           [  0. ,   1. ,   2. ],\n",
    "           [  0. ,   0. , -17.5]])\n",
    "    >>> matrix = np.array([[2, -2, 1], [0, 1, 2]])\n",
    "    >>> lower_upper_decomposition(matrix)\n",
    "    Traceback (most recent call last):\n",
    "    ...\n",
    "    ValueError: 'table' has to be of square shaped array but got a 2x3 array:\n",
    "    [[ 2 -2  1]\n",
    "     [ 0  1  2]]\n",
    "    \"\"\"\n",
    "    # Table that contains our data\n",
    "    # Table has to be a square array so we need to check first\n",
    "    rows, columns = np.shape(table)\n",
    "    if rows != columns:\n",
    "        raise ValueError(\n",
    "            f\"'table' has to be of square shaped array but got a {rows}x{columns} \"\n",
    "            + f\"array:\\n{table}\"\n",
    "        )\n",
    "    lower = np.zeros((rows, columns))\n",
    "    upper = np.zeros((rows, columns))\n",
    "    for i in range(columns):\n",
    "        for j in range(i):\n",
    "            total = 0\n",
    "            for k in range(j):\n",
    "                total += lower[i][k] * upper[k][j]\n",
    "            lower[i][j] = (table[i][j] - total) / upper[j][j]\n",
    "        lower[i][i] = 1\n",
    "        for j in range(i, columns):\n",
    "            total = 0\n",
    "            for k in range(i):\n",
    "                total += lower[i][k] * upper[k][j]\n",
    "            upper[i][j] = table[i][j] - total\n",
    "    return lower, upper"
   ]
  },
  {
   "cell_type": "code",
   "execution_count": 9,
   "id": "cc34151b",
   "metadata": {},
   "outputs": [],
   "source": [
    "import doctest"
   ]
  },
  {
   "cell_type": "code",
   "execution_count": 10,
   "id": "197d5597",
   "metadata": {},
   "outputs": [
    {
     "data": {
      "text/plain": [
       "TestResults(failed=0, attempted=6)"
      ]
     },
     "execution_count": 10,
     "metadata": {},
     "output_type": "execute_result"
    }
   ],
   "source": [
    "doctest.testmod()"
   ]
  }
 ],
 "metadata": {
  "kernelspec": {
   "display_name": "Algorithm Venv",
   "language": "python",
   "name": "alg_venv"
  },
  "language_info": {
   "codemirror_mode": {
    "name": "ipython",
    "version": 3
   },
   "file_extension": ".py",
   "mimetype": "text/x-python",
   "name": "python",
   "nbconvert_exporter": "python",
   "pygments_lexer": "ipython3",
   "version": "3.9.2"
  }
 },
 "nbformat": 4,
 "nbformat_minor": 5
}
