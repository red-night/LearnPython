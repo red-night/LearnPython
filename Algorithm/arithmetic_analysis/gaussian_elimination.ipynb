{
 "cells": [
  {
   "cell_type": "code",
   "execution_count": 1,
   "id": "b2b2117d",
   "metadata": {},
   "outputs": [
    {
     "data": {
      "text/plain": [
       "'\\nGaussian elimination method for solving a system of linear equations.\\nGaussian elimination - https://en.wikipedia.org/wiki/Gaussian_elimination\\n'"
      ]
     },
     "execution_count": 1,
     "metadata": {},
     "output_type": "execute_result"
    }
   ],
   "source": [
    "\"\"\"\n",
    "Gaussian elimination method for solving a system of linear equations.\n",
    "Gaussian elimination - https://en.wikipedia.org/wiki/Gaussian_elimination\n",
    "\"\"\""
   ]
  },
  {
   "cell_type": "code",
   "execution_count": 3,
   "id": "1aa56771",
   "metadata": {},
   "outputs": [
    {
     "name": "stdout",
     "output_type": "stream",
     "text": [
      "Collecting numpy\n",
      "  Downloading numpy-1.23.0-cp39-cp39-manylinux_2_17_x86_64.manylinux2014_x86_64.whl (17.1 MB)\n",
      "\u001b[K     |████████████████████████████████| 17.1 MB 2.4 MB/s eta 0:00:01    |▌                               | 266 kB 2.2 MB/s eta 0:00:08     |██████████▍                     | 5.5 MB 2.3 MB/s eta 0:00:06     |██████████▋                     | 5.7 MB 2.3 MB/s eta 0:00:05     |██████████████▌                 | 7.7 MB 2.4 MB/s eta 0:00:04     |███████████████▊                | 8.4 MB 2.4 MB/s eta 0:00:04     |███████████████████████         | 12.2 MB 2.5 MB/s eta 0:00:02\n",
      "\u001b[?25hInstalling collected packages: numpy\n",
      "Successfully installed numpy-1.23.0\n",
      "Note: you may need to restart the kernel to use updated packages.\n"
     ]
    }
   ],
   "source": [
    "pip install numpy"
   ]
  },
  {
   "cell_type": "code",
   "execution_count": 1,
   "id": "47f3014e",
   "metadata": {},
   "outputs": [],
   "source": [
    "import numpy as np\n",
    "from numpy import float64\n",
    "from numpy.typing import NDArray"
   ]
  },
  {
   "cell_type": "code",
   "execution_count": 2,
   "id": "05426198",
   "metadata": {},
   "outputs": [],
   "source": [
    "def retroactive_resolution(\n",
    "    coefficients: NDArray[float64], vector: NDArray[float64]\n",
    ") -> NDArray[float64]:\n",
    "    \"\"\"\n",
    "    This function performs a retroactive linear system resolution\n",
    "        for triangular matrix\n",
    "    Examples:\n",
    "        2x1 + 2x2 - 1x3 = 5         2x1 + 2x2 = -1\n",
    "        0x1 - 2x2 - 1x3 = -7        0x1 - 2x2 = -1\n",
    "        0x1 + 0x2 + 5x3 = 15\n",
    "    >>> gaussian_elimination([[2, 2, -1], [0, -2, -1], [0, 0, 5]], [[5], [-7], [15]])\n",
    "    array([[2.],\n",
    "           [2.],\n",
    "           [3.]])\n",
    "    >>> gaussian_elimination([[2, 2], [0, -2]], [[-1], [-1]])\n",
    "    array([[-1. ],\n",
    "           [ 0.5]])\n",
    "    \"\"\"\n",
    "\n",
    "    rows, columns = np.shape(coefficients)\n",
    "\n",
    "    x: NDArray[float64] = np.zeros((rows, 1), dtype=float)\n",
    "    for row in reversed(range(rows)):\n",
    "        sum = 0\n",
    "        for col in range(row + 1, columns):\n",
    "            sum += coefficients[row, col] * x[col]\n",
    "\n",
    "        x[row, 0] = (vector[row] - sum) / coefficients[row, row]\n",
    "\n",
    "    return x"
   ]
  },
  {
   "cell_type": "code",
   "execution_count": 3,
   "id": "e1b750b0",
   "metadata": {},
   "outputs": [],
   "source": [
    "def gaussian_elimination(\n",
    "    coefficients: NDArray[float64], vector: NDArray[float64]\n",
    ") -> NDArray[float64]:\n",
    "    \"\"\"\n",
    "    This function performs Gaussian elimination method\n",
    "    Examples:\n",
    "        1x1 - 4x2 - 2x3 = -2        1x1 + 2x2 = 5\n",
    "        5x1 + 2x2 - 2x3 = -3        5x1 + 2x2 = 5\n",
    "        1x1 - 1x2 + 0x3 = 4\n",
    "    >>> gaussian_elimination([[1, -4, -2], [5, 2, -2], [1, -1, 0]], [[-2], [-3], [4]])\n",
    "    array([[ 2.3 ],\n",
    "           [-1.7 ],\n",
    "           [ 5.55]])\n",
    "    >>> gaussian_elimination([[1, 2], [5, 2]], [[5], [5]])\n",
    "    array([[0. ],\n",
    "           [2.5]])\n",
    "    \"\"\"\n",
    "    # coefficients must to be a square matrix so we need to check first\n",
    "    rows, columns = np.shape(coefficients)\n",
    "    if rows != columns:\n",
    "        return np.array((), dtype=float)\n",
    "\n",
    "    # augmented matrix\n",
    "    augmented_mat: NDArray[float64] = np.concatenate((coefficients, vector), axis=1)\n",
    "    augmented_mat = augmented_mat.astype(\"float64\")\n",
    "\n",
    "    # scale the matrix leaving it triangular\n",
    "    for row in range(rows - 1):\n",
    "        pivot = augmented_mat[row, row]\n",
    "        for col in range(row + 1, columns):\n",
    "            factor = augmented_mat[col, row] / pivot\n",
    "            augmented_mat[col, :] -= factor * augmented_mat[row, :]\n",
    "\n",
    "    x = retroactive_resolution(\n",
    "        augmented_mat[:, 0:columns], augmented_mat[:, columns : columns + 1]\n",
    "    )\n",
    "\n",
    "    return x"
   ]
  },
  {
   "cell_type": "code",
   "execution_count": 4,
   "id": "3fff3905",
   "metadata": {},
   "outputs": [],
   "source": [
    "import doctest"
   ]
  },
  {
   "cell_type": "code",
   "execution_count": 5,
   "id": "e6cc1404",
   "metadata": {},
   "outputs": [
    {
     "data": {
      "text/plain": [
       "TestResults(failed=0, attempted=4)"
      ]
     },
     "execution_count": 5,
     "metadata": {},
     "output_type": "execute_result"
    }
   ],
   "source": [
    "doctest.testmod()"
   ]
  }
 ],
 "metadata": {
  "kernelspec": {
   "display_name": "Algorithm Venv",
   "language": "python",
   "name": "alg_venv"
  },
  "language_info": {
   "codemirror_mode": {
    "name": "ipython",
    "version": 3
   },
   "file_extension": ".py",
   "mimetype": "text/x-python",
   "name": "python",
   "nbconvert_exporter": "python",
   "pygments_lexer": "ipython3",
   "version": "3.9.2"
  }
 },
 "nbformat": 4,
 "nbformat_minor": 5
}
