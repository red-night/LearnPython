{
 "cells": [
  {
   "cell_type": "code",
   "execution_count": 1,
   "id": "9892d677",
   "metadata": {},
   "outputs": [
    {
     "data": {
      "text/plain": [
       "'\\nImplementing Secant method in Python\\nAuthor: dimgrichr\\n'"
      ]
     },
     "execution_count": 1,
     "metadata": {},
     "output_type": "execute_result"
    }
   ],
   "source": [
    "\"\"\"\n",
    "Implementing Secant method in Python\n",
    "Author: dimgrichr\n",
    "\"\"\""
   ]
  },
  {
   "cell_type": "code",
   "execution_count": 2,
   "id": "36d8e83d",
   "metadata": {},
   "outputs": [],
   "source": [
    "from math import exp"
   ]
  },
  {
   "cell_type": "code",
   "execution_count": 3,
   "id": "5ea78ab0",
   "metadata": {},
   "outputs": [],
   "source": [
    "def f(x: float) -> float:\n",
    "    \"\"\"\n",
    "    >>> f(5)\n",
    "    39.98652410600183\n",
    "    \"\"\"\n",
    "    return 8 * x - 2 * exp(-x)"
   ]
  },
  {
   "cell_type": "code",
   "execution_count": 4,
   "id": "aaf98d01",
   "metadata": {},
   "outputs": [],
   "source": [
    "def secant_method(lower_bound: float, upper_bound: float, repeats: int) -> float:\n",
    "    \"\"\"\n",
    "    >>> secant_method(1, 3, 2)\n",
    "    0.2139409276214589\n",
    "    \"\"\"\n",
    "    x0 = lower_bound\n",
    "    x1 = upper_bound\n",
    "    for i in range(0, repeats):\n",
    "        x0, x1 = x1, x1 - (f(x1) * (x1 - x0)) / (f(x1) - f(x0))\n",
    "    return x1"
   ]
  },
  {
   "cell_type": "code",
   "execution_count": 5,
   "id": "abd6e28c",
   "metadata": {},
   "outputs": [
    {
     "name": "stdout",
     "output_type": "stream",
     "text": [
      "Example: 0.2139409276214589\n"
     ]
    }
   ],
   "source": [
    "print(f\"Example: {secant_method(1, 3, 2)}\")"
   ]
  }
 ],
 "metadata": {
  "kernelspec": {
   "display_name": "Python 3 (ipykernel)",
   "language": "python",
   "name": "python3"
  },
  "language_info": {
   "codemirror_mode": {
    "name": "ipython",
    "version": 3
   },
   "file_extension": ".py",
   "mimetype": "text/x-python",
   "name": "python",
   "nbconvert_exporter": "python",
   "pygments_lexer": "ipython3",
   "version": "3.9.2"
  }
 },
 "nbformat": 4,
 "nbformat_minor": 5
}
