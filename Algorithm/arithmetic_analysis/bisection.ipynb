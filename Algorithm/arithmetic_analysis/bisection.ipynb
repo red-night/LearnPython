{
 "cells": [
  {
   "cell_type": "code",
   "execution_count": 1,
   "id": "5a174680",
   "metadata": {},
   "outputs": [],
   "source": [
    "from typing import Callable"
   ]
  },
  {
   "cell_type": "code",
   "execution_count": 3,
   "id": "f2d010fe",
   "metadata": {},
   "outputs": [],
   "source": [
    "def bisection(function: Callable[[float], float], a: float, b: float) -> float:\n",
    "    \"\"\"\n",
    "    finds where function becomes 0 in [a,b] using bolzano\n",
    "    >>> bisection(lambda x: x ** 3 - 1, -5, 5)\n",
    "    1.0000000149011612\n",
    "    >>> bisection(lambda x: x ** 3 - 1, 2, 1000)\n",
    "    Traceback (most recent call last):\n",
    "    ...\n",
    "    ValueError: could not find root in given interval.\n",
    "    >>> bisection(lambda x: x ** 2 - 4 * x + 3, 0, 2)\n",
    "    1.0\n",
    "    >>> bisection(lambda x: x ** 2 - 4 * x + 3, 2, 4)\n",
    "    3.0\n",
    "    >>> bisection(lambda x: x ** 2 - 4 * x + 3, 4, 1000)\n",
    "    Traceback (most recent call last):\n",
    "    ...\n",
    "    ValueError: could not find root in given interval.\n",
    "    \"\"\"\n",
    "    start: float = a\n",
    "    end: float = b\n",
    "    if function(a) == 0:  # one of the a or b is a root for the function\n",
    "        return a\n",
    "    elif function(b) == 0:\n",
    "        return b\n",
    "    elif (\n",
    "        function(a) * function(b) > 0\n",
    "    ):  # if none of these are root and they are both positive or negative,\n",
    "        # then this algorithm can't find the root\n",
    "        raise ValueError(\"could not find root in given interval.\")\n",
    "    else:\n",
    "        mid: float = start + (end - start) / 2.0\n",
    "        while abs(start - mid) > 10**-7:  # until precisely equals to 10^-7\n",
    "            if function(mid) == 0:\n",
    "                return mid\n",
    "            elif function(mid) * function(start) < 0:\n",
    "                end = mid\n",
    "            else:\n",
    "                start = mid\n",
    "            mid = start + (end - start) / 2.0\n",
    "        return mid"
   ]
  },
  {
   "cell_type": "code",
   "execution_count": 4,
   "id": "3b83c004",
   "metadata": {},
   "outputs": [],
   "source": [
    "def f(x: float) -> float:\n",
    "    return x**3 - 2 * x - 5"
   ]
  },
  {
   "cell_type": "code",
   "execution_count": 5,
   "id": "f343d1da",
   "metadata": {},
   "outputs": [
    {
     "name": "stdout",
     "output_type": "stream",
     "text": [
      "2.0945515197818168\n"
     ]
    }
   ],
   "source": [
    "print(bisection(f, 1, 1000))"
   ]
  },
  {
   "cell_type": "code",
   "execution_count": 6,
   "id": "3e2d362b",
   "metadata": {},
   "outputs": [],
   "source": [
    "import doctest"
   ]
  },
  {
   "cell_type": "code",
   "execution_count": 7,
   "id": "5411d719",
   "metadata": {},
   "outputs": [
    {
     "data": {
      "text/plain": [
       "TestResults(failed=0, attempted=5)"
      ]
     },
     "execution_count": 7,
     "metadata": {},
     "output_type": "execute_result"
    }
   ],
   "source": [
    "doctest.testmod()"
   ]
  }
 ],
 "metadata": {
  "kernelspec": {
   "display_name": "Algorithm Venv",
   "language": "python",
   "name": "alg_venv"
  },
  "language_info": {
   "codemirror_mode": {
    "name": "ipython",
    "version": 3
   },
   "file_extension": ".py",
   "mimetype": "text/x-python",
   "name": "python",
   "nbconvert_exporter": "python",
   "pygments_lexer": "ipython3",
   "version": "3.9.2"
  }
 },
 "nbformat": 4,
 "nbformat_minor": 5
}
