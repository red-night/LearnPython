{
 "cells": [
  {
   "cell_type": "code",
   "execution_count": 1,
   "id": "2c760030",
   "metadata": {},
   "outputs": [],
   "source": [
    "# Implementing Newton Raphson method in Python\n",
    "# Author: Syed Haseeb Shah (github.com/QuantumNovice)\n",
    "# The Newton-Raphson method (also known as Newton's method) is a way to\n",
    "# quickly find a good approximation for the root of a real-valued function"
   ]
  },
  {
   "cell_type": "code",
   "execution_count": 3,
   "id": "56ca5fb6",
   "metadata": {},
   "outputs": [],
   "source": [
    "from __future__ import annotations\n",
    "\n",
    "from decimal import Decimal\n",
    "from math import *  # noqa: F401, F403\n",
    "\n",
    "from sympy import diff"
   ]
  },
  {
   "cell_type": "code",
   "execution_count": 2,
   "id": "4a90dbd6",
   "metadata": {},
   "outputs": [
    {
     "name": "stdout",
     "output_type": "stream",
     "text": [
      "Collecting sympy\n",
      "  Downloading sympy-1.10.1-py3-none-any.whl (6.4 MB)\n",
      "\u001b[K     |████████████████████████████████| 6.4 MB 2.5 MB/s eta 0:00:01    |▍                               | 81 kB 2.1 MB/s eta 0:00:04     |█████████████████▉              | 3.6 MB 2.5 MB/s eta 0:00:02     |███████████████████▉            | 4.0 MB 2.5 MB/s eta 0:00:01     |███████████████████████████████▊| 6.3 MB 2.5 MB/s eta 0:00:01\n",
      "\u001b[?25hCollecting mpmath>=0.19\n",
      "  Downloading mpmath-1.2.1-py3-none-any.whl (532 kB)\n",
      "\u001b[K     |████████████████████████████████| 532 kB 2.2 MB/s eta 0:00:01\n",
      "\u001b[?25hInstalling collected packages: mpmath, sympy\n",
      "Successfully installed mpmath-1.2.1 sympy-1.10.1\n",
      "Note: you may need to restart the kernel to use updated packages.\n"
     ]
    }
   ],
   "source": [
    "pip install sympy"
   ]
  },
  {
   "cell_type": "code",
   "execution_count": 4,
   "id": "06b2c8d6",
   "metadata": {},
   "outputs": [],
   "source": [
    "def newton_raphson(\n",
    "    func: str, a: float | Decimal, precision: float = 10**-10\n",
    ") -> float:\n",
    "    \"\"\"Finds root from the point 'a' onwards by Newton-Raphson method\n",
    "    >>> newton_raphson(\"sin(x)\", 2)\n",
    "    3.1415926536808043\n",
    "    >>> newton_raphson(\"x**2 - 5*x +2\", 0.4)\n",
    "    0.4384471871911695\n",
    "    >>> newton_raphson(\"x**2 - 5\", 0.1)\n",
    "    2.23606797749979\n",
    "    >>> newton_raphson(\"log(x)- 1\", 2)\n",
    "    2.718281828458938\n",
    "    \"\"\"\n",
    "    x = a\n",
    "    while True:\n",
    "        x = Decimal(x) - (Decimal(eval(func)) / Decimal(eval(str(diff(func)))))\n",
    "        # This number dictates the accuracy of the answer\n",
    "        if abs(eval(func)) < precision:\n",
    "            return float(x)"
   ]
  },
  {
   "cell_type": "code",
   "execution_count": 5,
   "id": "db6e8aa8",
   "metadata": {},
   "outputs": [
    {
     "name": "stdout",
     "output_type": "stream",
     "text": [
      "The root of sin(x) = 0 is 3.1415926536808043\n"
     ]
    }
   ],
   "source": [
    "# Find root of trigonometric function\n",
    "    # Find value of pi\n",
    "print(f\"The root of sin(x) = 0 is {newton_raphson('sin(x)', 2)}\")"
   ]
  },
  {
   "cell_type": "code",
   "execution_count": 6,
   "id": "70b32aa6",
   "metadata": {},
   "outputs": [
    {
     "name": "stdout",
     "output_type": "stream",
     "text": [
      "The root of x**2 - 5*x + 2 = 0 is 0.4384471871911695\n"
     ]
    }
   ],
   "source": [
    "# Find root of polynomial\n",
    "print(f\"The root of x**2 - 5*x + 2 = 0 is {newton_raphson('x**2 - 5*x + 2', 0.4)}\")"
   ]
  },
  {
   "cell_type": "code",
   "execution_count": 7,
   "id": "bc07858d",
   "metadata": {},
   "outputs": [
    {
     "name": "stdout",
     "output_type": "stream",
     "text": [
      "The root of log(x) - 1 = 0 is 2.718281828458938\n"
     ]
    }
   ],
   "source": [
    "# Find Square Root of 5\n",
    "print(f\"The root of log(x) - 1 = 0 is {newton_raphson('log(x) - 1', 2)}\")"
   ]
  },
  {
   "cell_type": "code",
   "execution_count": 8,
   "id": "73565729",
   "metadata": {},
   "outputs": [
    {
     "name": "stdout",
     "output_type": "stream",
     "text": [
      "The root of exp(x) - 1 = 0 is 0.0\n"
     ]
    }
   ],
   "source": [
    "# Exponential Roots\n",
    "print(f\"The root of exp(x) - 1 = 0 is {newton_raphson('exp(x) - 1', 0)}\")"
   ]
  }
 ],
 "metadata": {
  "kernelspec": {
   "display_name": "Algorithm Venv",
   "language": "python",
   "name": "alg_venv"
  },
  "language_info": {
   "codemirror_mode": {
    "name": "ipython",
    "version": 3
   },
   "file_extension": ".py",
   "mimetype": "text/x-python",
   "name": "python",
   "nbconvert_exporter": "python",
   "pygments_lexer": "ipython3",
   "version": "3.9.2"
  }
 },
 "nbformat": 4,
 "nbformat_minor": 5
}
